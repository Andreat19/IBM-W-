{
 "cells": [
  {
   "cell_type": "markdown",
   "metadata": {},
   "source": [
    "# Proyecto 7: Deploy de sistema de recomendación con Watson\n",
    "\n",
    "En este proyecto llevaremos a cabo la puesta en producción del modelo entrenado en el proyecto 5. Es decir, lo subirmos la nube de IBM y utilizando llamados a la API de Watson tendremos acceso a él para realizar predicciones."
   ]
  },
  {
   "cell_type": "code",
   "execution_count": 2,
   "metadata": {},
   "outputs": [],
   "source": [
    "import warnings\n",
    "warnings.filterwarnings(\"ignore\")\n",
    "import sklearn\n",
    "from sklearn.datasets import load_files\n",
    "moviedir = r'./dataset/movie_reviews' \n",
    "movie_reviews = load_files(moviedir, shuffle=True)"
   ]
  },
  {
   "cell_type": "code",
   "execution_count": 3,
   "metadata": {},
   "outputs": [],
   "source": [
    "from sklearn.model_selection import train_test_split\n",
    "X_train, X_test, y_train, y_test = train_test_split(\n",
    "    movie_reviews.data, movie_reviews.target, test_size = 0.20, stratify=movie_reviews.target, random_state = 12)"
   ]
  },
  {
   "cell_type": "code",
   "execution_count": 4,
   "metadata": {},
   "outputs": [],
   "source": [
    "from sklearn.externals import joblib\n",
    "eclf = joblib.load('sentiment.pkl') "
   ]
  },
  {
   "cell_type": "markdown",
   "metadata": {},
   "source": [
    "IBM Watson"
   ]
  },
  {
   "cell_type": "markdown",
   "metadata": {},
   "source": [
    "**1) Cargamos la biblioteca `WatsonMachineLearningAPIClient`"
   ]
  },
  {
   "cell_type": "code",
   "execution_count": 4,
   "metadata": {},
   "outputs": [
    {
     "name": "stdout",
     "output_type": "stream",
     "text": [
      "Uninstalling watson-machine-learning-client-1.0.375:\n",
      "  Successfully uninstalled watson-machine-learning-client-1.0.375\n"
     ]
    }
   ],
   "source": [
    "!pip uninstall watson-machine-learning-client -y"
   ]
  },
  {
   "cell_type": "code",
   "execution_count": 5,
   "metadata": {},
   "outputs": [
    {
     "name": "stdout",
     "output_type": "stream",
     "text": [
      "Collecting watson-machine-learning-client-V4\n",
      "  Downloading https://files.pythonhosted.org/packages/ca/2b/a6be1a2b36138835a66b007f128ffa1ab52398178c4b564534fdc1d30743/watson_machine_learning_client_V4-1.0.34-py3-none-any.whl (974kB)\n",
      "Requirement already satisfied: certifi in c:\\users\\sando\\.conda\\envs\\ds\\lib\\site-packages (from watson-machine-learning-client-V4) (2019.6.16)\n",
      "Requirement already satisfied: ibm-cos-sdk in c:\\users\\sando\\.conda\\envs\\ds\\lib\\site-packages (from watson-machine-learning-client-V4) (2.5.3)\n",
      "Requirement already satisfied: lomond in c:\\users\\sando\\.conda\\envs\\ds\\lib\\site-packages (from watson-machine-learning-client-V4) (0.3.3)\n",
      "Requirement already satisfied: urllib3 in c:\\users\\sando\\.conda\\envs\\ds\\lib\\site-packages (from watson-machine-learning-client-V4) (1.24.2)\n",
      "Requirement already satisfied: tqdm in c:\\users\\sando\\.conda\\envs\\ds\\lib\\site-packages (from watson-machine-learning-client-V4) (4.35.0)\n",
      "Requirement already satisfied: tabulate in c:\\users\\sando\\.conda\\envs\\ds\\lib\\site-packages (from watson-machine-learning-client-V4) (0.8.3)\n",
      "Requirement already satisfied: pandas in c:\\users\\sando\\.conda\\envs\\ds\\lib\\site-packages (from watson-machine-learning-client-V4) (0.24.2)\n",
      "Requirement already satisfied: requests in c:\\users\\sando\\.conda\\envs\\ds\\lib\\site-packages (from watson-machine-learning-client-V4) (2.21.0)\n",
      "Requirement already satisfied: ibm-cos-sdk-s3transfer>=2.0.0 in c:\\users\\sando\\.conda\\envs\\ds\\lib\\site-packages (from ibm-cos-sdk->watson-machine-learning-client-V4) (2.5.3)\n",
      "Requirement already satisfied: jmespath<1.0.0,>=0.7.1 in c:\\users\\sando\\.conda\\envs\\ds\\lib\\site-packages (from ibm-cos-sdk->watson-machine-learning-client-V4) (0.9.4)\n",
      "Requirement already satisfied: ibm-cos-sdk-core>=2.0.0 in c:\\users\\sando\\.conda\\envs\\ds\\lib\\site-packages (from ibm-cos-sdk->watson-machine-learning-client-V4) (2.5.3)\n",
      "Requirement already satisfied: six>=1.10.0 in c:\\users\\sando\\.conda\\envs\\ds\\lib\\site-packages (from lomond->watson-machine-learning-client-V4) (1.12.0)\n",
      "Requirement already satisfied: pytz>=2011k in c:\\users\\sando\\.conda\\envs\\ds\\lib\\site-packages (from pandas->watson-machine-learning-client-V4) (2019.1)\n",
      "Requirement already satisfied: numpy>=1.12.0 in c:\\users\\sando\\.conda\\envs\\ds\\lib\\site-packages (from pandas->watson-machine-learning-client-V4) (1.16.3)\n",
      "Requirement already satisfied: python-dateutil>=2.5.0 in c:\\users\\sando\\.conda\\envs\\ds\\lib\\site-packages (from pandas->watson-machine-learning-client-V4) (2.8.0)\n",
      "Requirement already satisfied: chardet<3.1.0,>=3.0.2 in c:\\users\\sando\\.conda\\envs\\ds\\lib\\site-packages (from requests->watson-machine-learning-client-V4) (3.0.4)\n",
      "Requirement already satisfied: idna<2.9,>=2.5 in c:\\users\\sando\\.conda\\envs\\ds\\lib\\site-packages (from requests->watson-machine-learning-client-V4) (2.8)\n",
      "Requirement already satisfied: docutils>=0.10 in c:\\users\\sando\\.conda\\envs\\ds\\lib\\site-packages (from ibm-cos-sdk-core>=2.0.0->ibm-cos-sdk->watson-machine-learning-client-V4) (0.14)\n",
      "Installing collected packages: watson-machine-learning-client-V4\n",
      "Successfully installed watson-machine-learning-client-V4-1.0.34\n"
     ]
    }
   ],
   "source": [
    "!pip install watson-machine-learning-client-V4"
   ]
  },
  {
   "cell_type": "code",
   "execution_count": 5,
   "metadata": {},
   "outputs": [],
   "source": [
    "import warnings\n",
    "warnings.filterwarnings(\"ignore\")\n",
    "\n",
    "import json\n",
    "#import numpy as np\n",
    "#import pandas as pd\n",
    "from watson_machine_learning_client import WatsonMachineLearningAPIClient"
   ]
  },
  {
   "cell_type": "markdown",
   "metadata": {},
   "source": [
    "**2) Creámos la variable con las credenciales que necesita `Watson`. "
   ]
  },
  {
   "cell_type": "code",
   "execution_count": 6,
   "metadata": {},
   "outputs": [],
   "source": [
    "wml_credentials={\n",
    "  \"apikey\": \"cKRbMjSYKI_KXy98jyuVM-AUzhSH2dadrD9abARoK2VB\",\n",
    "  \"iam_apikey_description\": \"Auto-generated for key 7149a15e-ac7a-4bf7-a6eb-b1e6e4bc8ffe\",\n",
    "  \"iam_apikey_name\": \"Credenciales de servicio-1\",\n",
    "  \"iam_role_crn\": \"crn:v1:bluemix:public:iam::::serviceRole:Writer\",\n",
    "  \"iam_serviceid_crn\": \"crn:v1:bluemix:public:iam-identity::a/086932dd35c7421f98e661d5c0f7d4be::serviceid:ServiceId-e4e224eb-1719-42a8-9412-c4f65f4475a4\",\n",
    "  \"instance_id\": \"8d0f96fa-4b35-4947-b148-7a96af547eb1\",\n",
    "  \"url\": \"https://us-south.ml.cloud.ibm.com\"\n",
    "}"
   ]
  },
  {
   "cell_type": "markdown",
   "metadata": {},
   "source": [
    "**3) Declaro** la variable `client` y guardá en ella al objeto `WatsonMachineLearningAPIClient` con las credenciales como parámetro"
   ]
  },
  {
   "cell_type": "code",
   "execution_count": 7,
   "metadata": {},
   "outputs": [],
   "source": [
    "client = WatsonMachineLearningAPIClient(wml_credentials)"
   ]
  },
  {
   "cell_type": "markdown",
   "metadata": {},
   "source": [
    "**4) Creo** una variable que guarde las propiedades del modelo. Datos del autor y nombre del proyecto."
   ]
  },
  {
   "cell_type": "code",
   "execution_count": 8,
   "metadata": {},
   "outputs": [],
   "source": [
    "model_props = {\n",
    "    client.repository.ModelMetaNames.NAME: \"Voting\",\n",
    "    client.repository.ModelMetaNames.DESCRIPTION: \"Clasificación de reviews\",\n",
    "    client.repository.ModelMetaNames.TYPE: \"scikit-learn_0.20\", \n",
    "    client.repository.ModelMetaNames.RUNTIME_UID: \"scikit-learn_0.20-py3\" \n",
    "              }"
   ]
  },
  {
   "cell_type": "markdown",
   "metadata": {},
   "source": [
    "**5) Se crea un pipeline que contenga como primer paso a un `TfidfVectorizer` y como segundo paso, al mejor modelo que hayas obtenido en el proyecto 5. **Entrená** con este pipeline."
   ]
  },
  {
   "cell_type": "code",
   "execution_count": 9,
   "metadata": {},
   "outputs": [
    {
     "data": {
      "text/plain": [
       "Pipeline(memory=None,\n",
       "     steps=[('tfidfvectorizer', TfidfVectorizer(analyzer='word', binary=False, decode_error='strict',\n",
       "        dtype=<class 'numpy.float64'>, encoding='utf-8', input='content',\n",
       "        lowercase=True, max_df=1.0, max_features=None, min_df=1,\n",
       "        ngram_range=(1, 1), norm='l2', preprocessor=None, smooth...e, warm_start=False))],\n",
       "         flatten_transform=None, n_jobs=None, voting='soft', weights=None))])"
      ]
     },
     "execution_count": 9,
     "metadata": {},
     "output_type": "execute_result"
    }
   ],
   "source": [
    "from sklearn.pipeline import make_pipeline\n",
    "from sklearn.feature_extraction.text import TfidfVectorizer\n",
    "from sklearn.ensemble import VotingClassifier\n",
    "from sklearn.metrics import accuracy_score\n",
    "from sklearn.ensemble import AdaBoostClassifier\n",
    "from sklearn.neural_network import MLPClassifier\n",
    "from sklearn.tree import DecisionTreeClassifier\n",
    "from sklearn.ensemble import RandomForestClassifier\n",
    "from sklearn.svm import LinearSVC\n",
    "vect = TfidfVectorizer()\n",
    "rf_clf = RandomForestClassifier()\n",
    "ada_clf = ada_clf = AdaBoostClassifier(\n",
    "     DecisionTreeClassifier(max_depth=1), algorithm=\"SAMME.R\")\n",
    "mlp_clf = MLPClassifier(random_state=42)\n",
    "\n",
    "clf = VotingClassifier(\n",
    "estimators=[ ('rf', rf_clf) , ('ada' , ada_clf) , ('mlp', mlp_clf)],voting='soft')\n",
    "\n",
    "pipeline = make_pipeline(vect, clf)\n",
    "pipeline.fit(X_train, y_train)"
   ]
  },
  {
   "cell_type": "markdown",
   "metadata": {},
   "source": [
    "**6) Subí** al modelo a IBM Cloud usando `client.repository.store_model` con los parámetros correctos."
   ]
  },
  {
   "cell_type": "code",
   "execution_count": 10,
   "metadata": {},
   "outputs": [],
   "source": [
    "published_model = client.repository.store_model(model=pipeline, \n",
    "                                                meta_props=model_props, \n",
    "                                                training_data=X_train, \n",
    "                                                training_target=y_train)"
   ]
  },
  {
   "cell_type": "markdown",
   "metadata": {},
   "source": [
    "**7) Obtenemos** el `uid` del modelo y guardalo en una variable."
   ]
  },
  {
   "cell_type": "code",
   "execution_count": 11,
   "metadata": {},
   "outputs": [],
   "source": [
    "published_model_uid = client.repository.get_model_uid(published_model)"
   ]
  },
  {
   "cell_type": "code",
   "execution_count": 12,
   "metadata": {
    "scrolled": true
   },
   "outputs": [
    {
     "name": "stdout",
     "output_type": "stream",
     "text": [
      "------------------------------------  ------  ------------------------  -----------------\n",
      "GUID                                  NAME    CREATED                   TYPE\n",
      "c2d9e717-8e50-4743-9c71-48c696cd442b  Voting  2019-09-08T18:30:42.385Z  scikit-learn_0.20\n",
      "e52fd9ff-95c3-41f7-93ea-b2be1de48719  Voting  2019-09-07T01:20:36.904Z  scikit-learn_0.20\n",
      "4796c63b-8ece-4211-a95c-5fdc7cb783b4  Voting  2019-09-07T01:00:13.924Z  scikit-learn_0.20\n",
      "------------------------------------  ------  ------------------------  -----------------\n"
     ]
    }
   ],
   "source": [
    "models_details = client.repository.list_models()"
   ]
  },
  {
   "cell_type": "markdown",
   "metadata": {},
   "source": [
    "**8) Cargamos** el modelo basado en su `uid` y utilizalo para realizar la predicción sobre el conjunto de test"
   ]
  },
  {
   "cell_type": "code",
   "execution_count": null,
   "metadata": {},
   "outputs": [],
   "source": [
    "loaded_model = client.repository.load(published_model_uid)\n",
    "test_predictions = loaded_model.predict(X_test)"
   ]
  },
  {
   "cell_type": "markdown",
   "metadata": {},
   "source": [
    "**9) Mostrar** el `classification_report` obtenido"
   ]
  },
  {
   "cell_type": "code",
   "execution_count": 35,
   "metadata": {},
   "outputs": [
    {
     "name": "stdout",
     "output_type": "stream",
     "text": [
      "roc_auc score:  0.8499999999999999\n",
      "              precision    recall  f1-score   support\n",
      "\n",
      "           0       0.86      0.84      0.85       200\n",
      "           1       0.84      0.86      0.85       200\n",
      "\n",
      "   micro avg       0.85      0.85      0.85       400\n",
      "   macro avg       0.85      0.85      0.85       400\n",
      "weighted avg       0.85      0.85      0.85       400\n",
      "\n"
     ]
    }
   ],
   "source": [
    "from sklearn.metrics import roc_auc_score\n",
    "from sklearn.metrics import classification_report\n",
    "\n",
    "print(\"roc_auc score: \", roc_auc_score(y_test, test_predictions))\n",
    "print(classification_report(y_test, test_predictions))"
   ]
  }
 ],
 "metadata": {
  "kernelspec": {
   "display_name": "Python 3",
   "language": "python",
   "name": "python3"
  },
  "language_info": {
   "codemirror_mode": {
    "name": "ipython",
    "version": 3
   },
   "file_extension": ".py",
   "mimetype": "text/x-python",
   "name": "python",
   "nbconvert_exporter": "python",
   "pygments_lexer": "ipython3",
   "version": "3.6.8"
  }
 },
 "nbformat": 4,
 "nbformat_minor": 2
}
